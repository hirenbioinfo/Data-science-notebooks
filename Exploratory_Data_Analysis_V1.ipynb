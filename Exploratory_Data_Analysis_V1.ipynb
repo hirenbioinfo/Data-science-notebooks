{
  "nbformat": 4,
  "nbformat_minor": 0,
  "metadata": {
    "colab": {
      "private_outputs": true,
      "provenance": [],
      "authorship_tag": "ABX9TyOWZNA97BUJqWLqHLQTOvrP",
      "include_colab_link": true
    },
    "kernelspec": {
      "name": "python3",
      "display_name": "Python 3"
    },
    "language_info": {
      "name": "python"
    }
  },
  "cells": [
    {
      "cell_type": "markdown",
      "metadata": {
        "id": "view-in-github",
        "colab_type": "text"
      },
      "source": [
        "<a href=\"https://colab.research.google.com/github/hirenbioinfo/Data-science-notebooks/blob/main/Exploratory_Data_Analysis_V1.ipynb\" target=\"_parent\"><img src=\"https://colab.research.google.com/assets/colab-badge.svg\" alt=\"Open In Colab\"/></a>"
      ]
    },
    {
      "cell_type": "code",
      "execution_count": null,
      "metadata": {
        "id": "lNCVnUs54oma"
      },
      "outputs": [],
      "source": [
        "# import the necessary libraries\n",
        "import pandas as pd\n",
        "import numpy as np\n",
        "from IPython.core.display import display, HTML\n",
        "display(HTML(\"<style>.container { width:90% !important; }</style>\"))\n",
        "\n",
        "# read the data\n",
        "#Mount Google Drive:\n",
        "from google.colab import drive\n",
        "drive.mount('/content/drive')\n",
        "# read file from goolge drive\n",
        "# we have manually downaloded the origianl csv file and saved to google drive\n",
        "file_path = '/content/drive/My Drive/Udemy/original.csv'\n",
        "data = pd.read_csv(file_path)\n",
        "data.columns = data.columns.str.upper()   #convert the columns to uppercase\n",
        "data.head(5)"
      ]
    },
    {
      "cell_type": "code",
      "source": [
        "#Exploratory Data Analysis\n",
        "# Get basic statistics of the numeric columns\n",
        "print(\"Basic Statistics:\")\n",
        "display(data.describe())\n",
        "\n",
        "# Get data types and non-null counts\n",
        "print(\"\\nData Types and Non-Null Counts:\")\n",
        "display(data.info())\n",
        "\n",
        "# Get the number of missing values in each column\n",
        "print(\"\\nMissing Values Count:\")\n",
        "display(data.isnull().sum())\n",
        "\n",
        "# Get the count of unique values in each column\n",
        "print(\"\\nUnique Values Count:\")\n",
        "display(data.nunique())"
      ],
      "metadata": {
        "id": "tnHFXQJAEggw"
      },
      "execution_count": null,
      "outputs": []
    },
    {
      "cell_type": "markdown",
      "source": [],
      "metadata": {
        "id": "QAvynRAxBNGa"
      }
    },
    {
      "cell_type": "code",
      "source": [
        "#Explore the data using sweetviz\n",
        "#sweetviz is a library that gives vital information about your dataset, without writing much code.\n",
        "!pip install sweetviz\n",
        "import sweetviz as sv\n",
        "advert_report = sv.analyze(data)#display the report\n",
        "advert_report.show_html('/content/drive/My Drive/Udemy/Report.html')\n",
        "\n",
        "# Save it to an HTML file in Google Drive\n",
        "#report_file_path = '/content/drive/My Drive/Udemy/Report.html'  # Modify path as needed\n",
        "#advert_report.show_html(report_file_path)"
      ],
      "metadata": {
        "id": "vf33t_sKLzNU"
      },
      "execution_count": null,
      "outputs": []
    },
    {
      "cell_type": "code",
      "source": [
        "# this part worked fine locally\n",
        "#install the dtale package\n",
        "!pip install dtale # from inside jupyter notebook or\n",
        "# import the library\n",
        "import dtale\n",
        "#view the data analysis result inside your editor\n",
        "#df=pd.read.csv(\"path of csv file\", # encoding ='latin1')\n",
        "dtale.show(data)\n",
        "# open the analysis in browser\n",
        "dtale.show(data).open_browser()"
      ],
      "metadata": {
        "id": "9Uz-mKhVSUWe"
      },
      "execution_count": null,
      "outputs": []
    },
    {
      "cell_type": "code",
      "source": [
        "# Import necessary libraries\n",
        "import pandas as pd\n",
        "import dtale\n",
        "from IPython.core.display import display, HTML\n",
        "display(HTML(\"<style>.container { width:90% !important; }</style>\"))\n",
        "\n",
        "# Mount Google Drive\n",
        "from google.colab import drive\n",
        "drive.mount('/content/drive')\n",
        "\n",
        "# Read the file from Google Drive\n",
        "file_path = '/content/drive/My Drive/Udemy/original.csv'\n",
        "data = pd.read_csv(file_path)\n",
        "data.columns = data.columns.str.upper()   # Convert the columns to uppercase\n",
        "\n",
        "# Display first 5 rows\n",
        "print(data.head(5))\n",
        "\n",
        "# Use Dtale to analyze the data - a link will be provided to view the data\n",
        "d = dtale.show(data)\n",
        "\n",
        "# Print the link to view the data in Dtale\n",
        "d\n"
      ],
      "metadata": {
        "id": "CH4d-xM2W5LP"
      },
      "execution_count": null,
      "outputs": []
    }
  ]
}